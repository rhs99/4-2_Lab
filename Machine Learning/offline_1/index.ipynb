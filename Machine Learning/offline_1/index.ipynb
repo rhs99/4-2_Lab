{
 "cells": [
  {
   "cell_type": "code",
   "execution_count": 300,
   "outputs": [],
   "source": [
    "import math\n",
    "\n",
    "import pandas as pd\n",
    "import numpy as np\n",
    "from sklearn.preprocessing import StandardScaler\n",
    "from sklearn.model_selection import train_test_split\n",
    "from sklearn.feature_selection import mutual_info_classif\n",
    "from sklearn.datasets import make_classification\n",
    "\n",
    "\n",
    "df = pd.read_csv('WA_Fn-UseC_-Telco-Customer-Churn.csv')\n"
   ],
   "metadata": {
    "collapsed": false,
    "pycharm": {
     "name": "#%%\n"
    }
   }
  },
  {
   "cell_type": "code",
   "execution_count": 294,
   "outputs": [],
   "source": [
    "\n",
    "# df.astype(object).eq(' ').sum()"
   ],
   "metadata": {
    "collapsed": false,
    "pycharm": {
     "name": "#%%\n"
    }
   }
  },
  {
   "cell_type": "code",
   "execution_count": 295,
   "outputs": [],
   "source": [
    "\n",
    "df['TotalCharges'].replace({\" \": np.nan}, inplace=True)\n",
    "df['TotalCharges'] = df['TotalCharges'].astype(np.float64)\n",
    "df['TotalCharges'].fillna((df['TotalCharges'].mean()), inplace=True)"
   ],
   "metadata": {
    "collapsed": false,
    "pycharm": {
     "name": "#%%\n"
    }
   }
  },
  {
   "cell_type": "code",
   "execution_count": 296,
   "outputs": [],
   "source": [
    "enc_list = list([\n",
    " 'gender',\n",
    " 'Partner',\n",
    " 'Dependents',\n",
    " 'PhoneService',\n",
    " 'MultipleLines',\n",
    " 'InternetService',\n",
    " 'OnlineSecurity',\n",
    " 'OnlineBackup',\n",
    " 'DeviceProtection',\n",
    " 'TechSupport',\n",
    " 'StreamingTV',\n",
    " 'StreamingMovies',\n",
    " 'Contract',\n",
    " 'PaperlessBilling',\n",
    " 'PaymentMethod',\n",
    " 'Churn'\n",
    "])\n",
    "\n",
    "df = pd.get_dummies(df, columns=enc_list, drop_first=True)\n",
    "\n",
    "df.insert(0, 'bias', 1.0)\n",
    "\n"
   ],
   "metadata": {
    "collapsed": false,
    "pycharm": {
     "name": "#%%\n"
    }
   }
  },
  {
   "cell_type": "code",
   "execution_count": 297,
   "outputs": [],
   "source": [
    "df = df.select_dtypes([np.number])\n",
    "\n",
    "ss = StandardScaler()\n",
    "df.iloc[:,0:-1] = ss.fit_transform(df.iloc[:,0:-1])\n",
    "\n",
    "dataset = df.to_numpy()\n",
    "X = dataset[:, :-1]\n",
    "Y = dataset[:, -1]\n",
    "\n",
    "x_train, x_test, y_train, y_test = train_test_split(X, Y, test_size = 0.2,random_state=10)\n",
    "\n",
    "y_train = np.array([1 if it > 0 else -1 for it in y_train])\n",
    "y_test = np.array([1 if it > 0 else -1 for it in y_test])\n"
   ],
   "metadata": {
    "collapsed": false,
    "pycharm": {
     "name": "#%%\n"
    }
   }
  },
  {
   "cell_type": "code",
   "execution_count": null,
   "outputs": [],
   "source": [
    "\n",
    "feature_columns = list(df.columns[:-1])\n",
    "features = pd.DataFrame(df, columns=feature_columns)\n",
    "\n",
    "coeff_df = pd.DataFrame(mutual_info_classif(df[:,:-1], df[:,-1]).reshape(-1, 1),\n",
    "                         columns=['Coefficient'], index=feature_columns)\n"
   ],
   "metadata": {
    "collapsed": false,
    "pycharm": {
     "name": "#%%\n",
     "is_executing": true
    }
   }
  },
  {
   "cell_type": "markdown",
   "source": [],
   "metadata": {
    "collapsed": false
   }
  },
  {
   "cell_type": "code",
   "execution_count": 298,
   "outputs": [],
   "source": [
    "def g(x):\n",
    "  return np.tanh(x)\n",
    "\n",
    "def loss(y, y_p):\n",
    "    cost = 0.5 * np.sum((y-y_p)**2) / y.shape[0]\n",
    "    return cost\n",
    "\n",
    "def logistic_regression(x, y, k, threshold):\n",
    "    x_sampled = x[:,0:k]\n",
    "    w = np.random.rand(k)\n",
    "    alpha = 0.0001\n",
    "    itr = 0\n",
    "    while True:\n",
    "        itr += 1\n",
    "        y_p = g(np.matmul(x_sampled, w))\n",
    "        cost = loss(y, y_p)\n",
    "\n",
    "        if cost <= threshold:\n",
    "            break\n",
    "\n",
    "        w = w + (alpha * np.matmul(x_sampled.T, ((y - y_p) * (1 - y_p**2))))\n",
    "\n",
    "    # print(itr)\n",
    "    return w\n",
    "\n",
    "\n",
    "def train_logistic():\n",
    "    k = 31\n",
    "    w_ret = logistic_regression(x_train, y_train, k, 0.50)\n",
    "    x_test_sub = x_test[:,0:k]\n",
    "    y_pred = g(np.matmul(x_test_sub, w_ret))\n",
    "    y_pred = [1 if it > 0 else -1 for it in y_pred]\n",
    "    accuracy = np.sum((y_test == y_pred))/y_test.shape[0]\n",
    "    return accuracy\n",
    "\n",
    "# train_logistic()\n",
    "\n"
   ],
   "metadata": {
    "collapsed": false,
    "pycharm": {
     "name": "#%%\n"
    }
   }
  },
  {
   "cell_type": "code",
   "execution_count": 299,
   "outputs": [
    {
     "name": "stdout",
     "output_type": "stream",
     "text": [
      "[0.7342358  1.04732687 0.14961193 0.33115628 0.22808632]\n"
     ]
    },
    {
     "data": {
      "text/plain": "0.6969481902058198"
     },
     "execution_count": 299,
     "metadata": {},
     "output_type": "execute_result"
    }
   ],
   "source": [
    "def ada_boost(x_examples, y_examples, k_val, feature_sz):\n",
    "    n = x_examples.shape[0]\n",
    "    w = np.empty(n)\n",
    "    w.fill(1.0/n)\n",
    "    h = []\n",
    "    z = []\n",
    "\n",
    "    x_sliced = x_examples[:,0:feature_sz]\n",
    "\n",
    "    for k in range(0, k_val):\n",
    "        index = np.random.choice(x_examples.shape[0], n, replace=True, p = w)\n",
    "        x_data = x_examples[index]\n",
    "        y_data = y_examples[index]\n",
    "\n",
    "        x_data = x_data[:,0:feature_sz]\n",
    "\n",
    "        w_lr = logistic_regression(x_data, y_data, feature_sz, 0.5)\n",
    "\n",
    "        y_pred = g(np.matmul(x_sliced, w_lr))\n",
    "        y_pred = np.array([1 if it > 0 else -1 for it in y_pred])\n",
    "\n",
    "        error = 0.0\n",
    "\n",
    "        for j in range(0, n):\n",
    "            if y_pred[j] != y_examples[j]:\n",
    "                error += w[j]\n",
    "\n",
    "        # print(error)\n",
    "\n",
    "        if error > 0.5:\n",
    "            continue\n",
    "\n",
    "        for j in range(0, n):\n",
    "            if y_pred[j] == y_examples[j]:\n",
    "                w[j] = w[j]*(error/(1-error))\n",
    "\n",
    "\n",
    "        w = w/sum(w)\n",
    "\n",
    "        h.append(w_lr)\n",
    "        z.append(math.log2((1-error)/error))\n",
    "\n",
    "    return np.array(h), np.array(z)\n",
    "\n",
    "\n",
    "\n",
    "def train_ada():\n",
    "    feature_sz = 31\n",
    "    k_val = 5\n",
    "    h, w = ada_boost(x_test,y_test, k_val, feature_sz)\n",
    "\n",
    "    # print(w)\n",
    "\n",
    "    x_data = x_test[:,0:feature_sz]\n",
    "\n",
    "    # print(x_data.shape)\n",
    "    # print(y_test.shape)\n",
    "    # print(h.shape)\n",
    "    # print(w.shape)\n",
    "\n",
    "    y_pred = np.matmul(np.matmul(x_data, h.T), w)\n",
    "    y_pred = np.array([1 if it > 0 else -1 for it in y_pred])\n",
    "\n",
    "    accuracy = np.sum((y_test == y_pred))/y_test.shape[0]\n",
    "    return accuracy\n",
    "\n",
    "\n",
    "\n",
    "train_ada()\n"
   ],
   "metadata": {
    "collapsed": false,
    "pycharm": {
     "name": "#%%\n"
    }
   }
  },
  {
   "cell_type": "code",
   "execution_count": 299,
   "outputs": [],
   "source": [],
   "metadata": {
    "collapsed": false,
    "pycharm": {
     "name": "#%%\n"
    }
   }
  },
  {
   "cell_type": "code",
   "execution_count": 299,
   "outputs": [],
   "source": [],
   "metadata": {
    "collapsed": false,
    "pycharm": {
     "name": "#%%\n"
    }
   }
  },
  {
   "cell_type": "code",
   "execution_count": 299,
   "outputs": [],
   "source": [],
   "metadata": {
    "collapsed": false,
    "pycharm": {
     "name": "#%%\n"
    }
   }
  }
 ],
 "metadata": {
  "kernelspec": {
   "display_name": "Python 3",
   "language": "python",
   "name": "python3"
  },
  "language_info": {
   "codemirror_mode": {
    "name": "ipython",
    "version": 2
   },
   "file_extension": ".py",
   "mimetype": "text/x-python",
   "name": "python",
   "nbconvert_exporter": "python",
   "pygments_lexer": "ipython2",
   "version": "2.7.6"
  }
 },
 "nbformat": 4,
 "nbformat_minor": 0
}